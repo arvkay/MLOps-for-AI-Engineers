{
 "cells": [
  {
   "cell_type": "code",
   "execution_count": 2,
   "id": "6a7ec84a",
   "metadata": {},
   "outputs": [
    {
     "name": "stdout",
     "output_type": "stream",
     "text": [
      "Collecting catboost\n",
      "  Downloading catboost-1.0.3-cp38-none-win_amd64.whl (77.4 MB)\n",
      "Requirement already satisfied: pandas>=0.24.0 in c:\\users\\hp\\anaconda3\\lib\\site-packages (from catboost) (1.2.4)\n",
      "Requirement already satisfied: matplotlib in c:\\users\\hp\\anaconda3\\lib\\site-packages (from catboost) (3.3.4)\n",
      "Requirement already satisfied: plotly in c:\\users\\hp\\anaconda3\\lib\\site-packages (from catboost) (5.1.0)\n",
      "Requirement already satisfied: numpy>=1.16.0 in c:\\users\\hp\\anaconda3\\lib\\site-packages (from catboost) (1.21.4)\n",
      "Requirement already satisfied: six in c:\\users\\hp\\anaconda3\\lib\\site-packages (from catboost) (1.15.0)\n",
      "Collecting graphviz\n",
      "  Downloading graphviz-0.19.1-py3-none-any.whl (46 kB)\n",
      "Requirement already satisfied: scipy in c:\\users\\hp\\anaconda3\\lib\\site-packages (from catboost) (1.6.2)\n",
      "Requirement already satisfied: python-dateutil>=2.7.3 in c:\\users\\hp\\anaconda3\\lib\\site-packages (from pandas>=0.24.0->catboost) (2.8.1)\n",
      "Requirement already satisfied: pytz>=2017.3 in c:\\users\\hp\\anaconda3\\lib\\site-packages (from pandas>=0.24.0->catboost) (2021.1)\n",
      "Requirement already satisfied: pillow>=6.2.0 in c:\\users\\hp\\anaconda3\\lib\\site-packages (from matplotlib->catboost) (8.2.0)\n",
      "Requirement already satisfied: cycler>=0.10 in c:\\users\\hp\\anaconda3\\lib\\site-packages (from matplotlib->catboost) (0.10.0)\n",
      "Requirement already satisfied: pyparsing!=2.0.4,!=2.1.2,!=2.1.6,>=2.0.3 in c:\\users\\hp\\anaconda3\\lib\\site-packages (from matplotlib->catboost) (2.4.7)\n",
      "Requirement already satisfied: kiwisolver>=1.0.1 in c:\\users\\hp\\anaconda3\\lib\\site-packages (from matplotlib->catboost) (1.3.1)\n",
      "Requirement already satisfied: tenacity>=6.2.0 in c:\\users\\hp\\anaconda3\\lib\\site-packages (from plotly->catboost) (8.0.1)\n",
      "Installing collected packages: graphviz, catboost\n",
      "Successfully installed catboost-1.0.3 graphviz-0.19.1\n"
     ]
    }
   ],
   "source": [
    "# import libraries\n",
    "import numpy as np\n",
    "import pandas as pd\n",
    "from pathlib import Path\n",
    "\n",
    "import seaborn as sns\n",
    "import matplotlib.pyplot as plt\n",
    "%matplotlib inline\n",
    "plt.rcParams['font.size'] = '15'\n",
    "\n",
    "from sklearn.linear_model import LinearRegression, SGDRegressor\n",
    "from sklearn.ensemble import RandomForestRegressor, GradientBoostingRegressor\n",
    "from sklearn.svm import SVR\n",
    "from lightgbm import LGBMRegressor\n",
    "from xgboost.sklearn import XGBRegressor\n",
    "!pip install catboost\n",
    "from catboost import CatBoostRegressor\n",
    "from sklearn.kernel_ridge import KernelRidge\n",
    "from sklearn.linear_model import ElasticNet, Lasso,  BayesianRidge, Ridge\n",
    "\n",
    "from sklearn.preprocessing import RobustScaler, MinMaxScaler, StandardScaler, Normalizer, FunctionTransformer\n",
    "from sklearn.preprocessing import OneHotEncoder\n",
    "from sklearn.pipeline import Pipeline, make_pipeline\n",
    "from sklearn.compose import ColumnTransformer, make_column_selector\n",
    "from sklearn.preprocessing import FunctionTransformer\n",
    "from scipy.stats import skew\n",
    "\n",
    "from sklearn.model_selection import cross_val_score, cross_validate\n",
    "from sklearn.model_selection import GridSearchCV\n",
    "from sklearn.model_selection import KFold\n",
    "from sklearn.model_selection import StratifiedKFold"
   ]
  },
  {
   "cell_type": "code",
   "execution_count": 3,
   "id": "02c76e1a",
   "metadata": {},
   "outputs": [],
   "source": [
    "# read the dataframe\n",
    "data_path = 'solcast_cleaned_india.csv'\n",
    "df = pd.read_csv(data_path, index_col=0)\n",
    "df = df.drop(columns=['date'])    "
   ]
  },
  {
   "cell_type": "code",
   "execution_count": 4,
   "id": "0e2f1e93",
   "metadata": {},
   "outputs": [
    {
     "name": "stdout",
     "output_type": "stream",
     "text": [
      "<class 'pandas.core.frame.DataFrame'>\n",
      "Int64Index: 1097 entries, 0 to 1096\n",
      "Data columns (total 13 columns):\n",
      " #   Column         Non-Null Count  Dtype  \n",
      "---  ------         --------------  -----  \n",
      " 0   Temperature    1097 non-null   float64\n",
      " 1   CloudOpacity   1097 non-null   float64\n",
      " 2   DHI            1097 non-null   float64\n",
      " 3   DNI            1097 non-null   float64\n",
      " 4   Radiation      1097 non-null   float64\n",
      " 5   Precipitation  1097 non-null   float64\n",
      " 6   Humidity       1097 non-null   float64\n",
      " 7   Pressure       1097 non-null   float64\n",
      " 8   WindDirection  1097 non-null   float64\n",
      " 9   WindSpeed      1097 non-null   float64\n",
      " 10  Sunrise        1097 non-null   int64  \n",
      " 11  Sunset         1097 non-null   int64  \n",
      " 12  Month          1097 non-null   int64  \n",
      "dtypes: float64(10), int64(3)\n",
      "memory usage: 120.0 KB\n"
     ]
    }
   ],
   "source": [
    "df.info()"
   ]
  },
  {
   "cell_type": "markdown",
   "id": "d94262a6",
   "metadata": {},
   "source": [
    "## Split the data"
   ]
  },
  {
   "cell_type": "code",
   "execution_count": 5,
   "id": "729cbdba",
   "metadata": {},
   "outputs": [
    {
     "name": "stdout",
     "output_type": "stream",
     "text": [
      "Size of train: 74.93 % of original dataframe\n",
      "Size of test: 25.07 % of original dataframe\n"
     ]
    }
   ],
   "source": [
    "from sklearn.model_selection import train_test_split \n",
    "# stratify also along the month column\n",
    "# check that the rain ratio per month is equal between train and test set\n",
    "df_train, df_test = train_test_split(df, test_size=0.25, stratify=df[['Month']]) \n",
    "\n",
    "print(\"Size of train:\", round(len(df_train)/len(df)*100, 2), \"% of original dataframe\")\n",
    "print(\"Size of test:\", round(len(df_test)/len(df)*100, 2), \"% of original dataframe\")\n"
   ]
  },
  {
   "cell_type": "code",
   "execution_count": 6,
   "id": "80e80673",
   "metadata": {},
   "outputs": [],
   "source": [
    "def get_features_and_label(df):\n",
    "    label = np.ravel(np.array(df['Radiation']).T)\n",
    "    features = df.drop(columns=['Radiation']).to_numpy()\n",
    "    return features, label"
   ]
  },
  {
   "cell_type": "code",
   "execution_count": 7,
   "id": "fc97ab82",
   "metadata": {},
   "outputs": [],
   "source": [
    "#Split the data into X and y\n",
    "X_train, y_train = get_features_and_label(df_train)\n",
    "X_test, y_test = get_features_and_label(df_test)"
   ]
  },
  {
   "cell_type": "code",
   "execution_count": 8,
   "id": "f5e6aacd",
   "metadata": {},
   "outputs": [
    {
     "data": {
      "text/plain": [
       "((822, 12), (822,))"
      ]
     },
     "execution_count": 8,
     "metadata": {},
     "output_type": "execute_result"
    }
   ],
   "source": [
    "X_train.shape, y_train.shape"
   ]
  },
  {
   "cell_type": "markdown",
   "id": "bdc4bf68",
   "metadata": {},
   "source": [
    "## Modeling"
   ]
  },
  {
   "cell_type": "code",
   "execution_count": 9,
   "id": "0f106c3e",
   "metadata": {},
   "outputs": [
    {
     "data": {
      "text/plain": [
       "['Temperature',\n",
       " 'DHI',\n",
       " 'Precipitation',\n",
       " 'Humidity',\n",
       " 'Pressure',\n",
       " 'WindDirection',\n",
       " 'WindSpeed']"
      ]
     },
     "execution_count": 9,
     "metadata": {},
     "output_type": "execute_result"
    }
   ],
   "source": [
    "skewed_features = []\n",
    "for col in df_train.columns.to_list()[:-2]:    \n",
    "    if col != 'Radiation':\n",
    "        if((min(df_train[col]) > 0)) & (abs(skew(df_train[col])) > 0):\n",
    "            skewed_features.append(col)\n",
    "        \n",
    "skewed_features"
   ]
  },
  {
   "cell_type": "code",
   "execution_count": 10,
   "id": "7a47e5fe",
   "metadata": {},
   "outputs": [],
   "source": [
    "def log_transform(x):\n",
    "    return np.log(x + 1)"
   ]
  },
  {
   "cell_type": "code",
   "execution_count": 11,
   "id": "40a2b8db",
   "metadata": {},
   "outputs": [],
   "source": [
    "preprocessor = ColumnTransformer(\n",
    "    transformers=[\n",
    "        (\"month_encoder\", OneHotEncoder(handle_unknown=\"ignore\"), ['Month']),\n",
    "        (\"log_transform\", FunctionTransformer(log_transform), skewed_features)\n",
    "    ],\n",
    "    remainder='passthrough'\n",
    ")"
   ]
  },
  {
   "cell_type": "code",
   "execution_count": 12,
   "id": "88a715fe",
   "metadata": {},
   "outputs": [],
   "source": [
    "pipeline = Pipeline([  \n",
    "    ('preprocessing', preprocessor),\n",
    "    ('scaler' , StandardScaler()),\n",
    "    ('model' , RandomForestRegressor())\n",
    "])"
   ]
  },
  {
   "cell_type": "code",
   "execution_count": 13,
   "id": "7c5a38f5",
   "metadata": {},
   "outputs": [],
   "source": [
    "parameters = {\n",
    "    'preprocessing__month_encoder': ['passthrough', OneHotEncoder(handle_unknown='ignore')],\n",
    "    'preprocessing__log_transform': ['passthrough', FunctionTransformer(log_transform)],\n",
    "    'scaler': ['passthrough', StandardScaler(), MinMaxScaler(), Normalizer(), RobustScaler()],\n",
    "    'model': [LinearRegression(), RandomForestRegressor(), Ridge()]\n",
    "}"
   ]
  },
  {
   "cell_type": "code",
   "execution_count": 14,
   "id": "a3dbde54",
   "metadata": {},
   "outputs": [],
   "source": [
    "X_train = df_train.drop(columns=['Radiation'])\n",
    "y_train = df_train['Radiation']\n",
    "\n",
    "X_test = df_test.drop(columns=['Radiation'])\n",
    "y_test = df_test['Radiation']"
   ]
  },
  {
   "cell_type": "code",
   "execution_count": 15,
   "id": "3bac5108",
   "metadata": {},
   "outputs": [
    {
     "data": {
      "text/html": [
       "<div>\n",
       "<style scoped>\n",
       "    .dataframe tbody tr th:only-of-type {\n",
       "        vertical-align: middle;\n",
       "    }\n",
       "\n",
       "    .dataframe tbody tr th {\n",
       "        vertical-align: top;\n",
       "    }\n",
       "\n",
       "    .dataframe thead th {\n",
       "        text-align: right;\n",
       "    }\n",
       "</style>\n",
       "<table border=\"1\" class=\"dataframe\">\n",
       "  <thead>\n",
       "    <tr style=\"text-align: right;\">\n",
       "      <th></th>\n",
       "      <th>Temperature</th>\n",
       "      <th>CloudOpacity</th>\n",
       "      <th>DHI</th>\n",
       "      <th>DNI</th>\n",
       "      <th>Precipitation</th>\n",
       "      <th>Humidity</th>\n",
       "      <th>Pressure</th>\n",
       "      <th>WindDirection</th>\n",
       "      <th>WindSpeed</th>\n",
       "      <th>Sunrise</th>\n",
       "      <th>Sunset</th>\n",
       "      <th>Month</th>\n",
       "    </tr>\n",
       "  </thead>\n",
       "  <tbody>\n",
       "    <tr>\n",
       "      <th>951</th>\n",
       "      <td>33.357143</td>\n",
       "      <td>76.928571</td>\n",
       "      <td>106.357143</td>\n",
       "      <td>8.857143</td>\n",
       "      <td>67.078571</td>\n",
       "      <td>53.528571</td>\n",
       "      <td>977.842857</td>\n",
       "      <td>85.500000</td>\n",
       "      <td>1.914286</td>\n",
       "      <td>9</td>\n",
       "      <td>16</td>\n",
       "      <td>8</td>\n",
       "    </tr>\n",
       "    <tr>\n",
       "      <th>1006</th>\n",
       "      <td>33.938462</td>\n",
       "      <td>20.461538</td>\n",
       "      <td>218.538462</td>\n",
       "      <td>189.923077</td>\n",
       "      <td>47.476923</td>\n",
       "      <td>43.800000</td>\n",
       "      <td>981.323077</td>\n",
       "      <td>227.923077</td>\n",
       "      <td>1.700000</td>\n",
       "      <td>9</td>\n",
       "      <td>0</td>\n",
       "      <td>10</td>\n",
       "    </tr>\n",
       "    <tr>\n",
       "      <th>537</th>\n",
       "      <td>38.950000</td>\n",
       "      <td>60.571429</td>\n",
       "      <td>155.785714</td>\n",
       "      <td>59.428571</td>\n",
       "      <td>42.864286</td>\n",
       "      <td>33.985714</td>\n",
       "      <td>974.028571</td>\n",
       "      <td>242.571429</td>\n",
       "      <td>2.607143</td>\n",
       "      <td>9</td>\n",
       "      <td>16</td>\n",
       "      <td>6</td>\n",
       "    </tr>\n",
       "    <tr>\n",
       "      <th>662</th>\n",
       "      <td>31.116667</td>\n",
       "      <td>12.150000</td>\n",
       "      <td>177.500000</td>\n",
       "      <td>341.416667</td>\n",
       "      <td>11.008333</td>\n",
       "      <td>14.475000</td>\n",
       "      <td>981.966667</td>\n",
       "      <td>200.416667</td>\n",
       "      <td>1.375000</td>\n",
       "      <td>9</td>\n",
       "      <td>0</td>\n",
       "      <td>10</td>\n",
       "    </tr>\n",
       "    <tr>\n",
       "      <th>717</th>\n",
       "      <td>14.572727</td>\n",
       "      <td>11.200000</td>\n",
       "      <td>93.636364</td>\n",
       "      <td>554.818182</td>\n",
       "      <td>4.127273</td>\n",
       "      <td>27.872727</td>\n",
       "      <td>994.418182</td>\n",
       "      <td>305.545455</td>\n",
       "      <td>3.554545</td>\n",
       "      <td>9</td>\n",
       "      <td>0</td>\n",
       "      <td>12</td>\n",
       "    </tr>\n",
       "    <tr>\n",
       "      <th>...</th>\n",
       "      <td>...</td>\n",
       "      <td>...</td>\n",
       "      <td>...</td>\n",
       "      <td>...</td>\n",
       "      <td>...</td>\n",
       "      <td>...</td>\n",
       "      <td>...</td>\n",
       "      <td>...</td>\n",
       "      <td>...</td>\n",
       "      <td>...</td>\n",
       "      <td>...</td>\n",
       "      <td>...</td>\n",
       "    </tr>\n",
       "    <tr>\n",
       "      <th>262</th>\n",
       "      <td>29.476923</td>\n",
       "      <td>51.492308</td>\n",
       "      <td>199.307692</td>\n",
       "      <td>46.461538</td>\n",
       "      <td>42.223077</td>\n",
       "      <td>61.930769</td>\n",
       "      <td>985.123077</td>\n",
       "      <td>103.615385</td>\n",
       "      <td>3.046154</td>\n",
       "      <td>9</td>\n",
       "      <td>0</td>\n",
       "      <td>9</td>\n",
       "    </tr>\n",
       "    <tr>\n",
       "      <th>947</th>\n",
       "      <td>32.642857</td>\n",
       "      <td>16.878571</td>\n",
       "      <td>285.285714</td>\n",
       "      <td>202.142857</td>\n",
       "      <td>57.121429</td>\n",
       "      <td>54.807143</td>\n",
       "      <td>974.985714</td>\n",
       "      <td>95.357143</td>\n",
       "      <td>3.878571</td>\n",
       "      <td>9</td>\n",
       "      <td>16</td>\n",
       "      <td>8</td>\n",
       "    </tr>\n",
       "    <tr>\n",
       "      <th>1076</th>\n",
       "      <td>20.154545</td>\n",
       "      <td>3.927273</td>\n",
       "      <td>132.909091</td>\n",
       "      <td>410.454545</td>\n",
       "      <td>7.818182</td>\n",
       "      <td>28.181818</td>\n",
       "      <td>993.263636</td>\n",
       "      <td>301.636364</td>\n",
       "      <td>1.872727</td>\n",
       "      <td>9</td>\n",
       "      <td>0</td>\n",
       "      <td>12</td>\n",
       "    </tr>\n",
       "    <tr>\n",
       "      <th>742</th>\n",
       "      <td>15.733333</td>\n",
       "      <td>14.383333</td>\n",
       "      <td>120.166667</td>\n",
       "      <td>399.416667</td>\n",
       "      <td>4.375000</td>\n",
       "      <td>36.366667</td>\n",
       "      <td>990.516667</td>\n",
       "      <td>304.833333</td>\n",
       "      <td>3.941667</td>\n",
       "      <td>9</td>\n",
       "      <td>0</td>\n",
       "      <td>1</td>\n",
       "    </tr>\n",
       "    <tr>\n",
       "      <th>158</th>\n",
       "      <td>39.635714</td>\n",
       "      <td>0.192857</td>\n",
       "      <td>245.571429</td>\n",
       "      <td>329.642857</td>\n",
       "      <td>28.900000</td>\n",
       "      <td>23.450000</td>\n",
       "      <td>979.135714</td>\n",
       "      <td>159.928571</td>\n",
       "      <td>2.578571</td>\n",
       "      <td>9</td>\n",
       "      <td>16</td>\n",
       "      <td>6</td>\n",
       "    </tr>\n",
       "  </tbody>\n",
       "</table>\n",
       "<p>822 rows × 12 columns</p>\n",
       "</div>"
      ],
      "text/plain": [
       "      Temperature  CloudOpacity         DHI         DNI  Precipitation  \\\n",
       "951     33.357143     76.928571  106.357143    8.857143      67.078571   \n",
       "1006    33.938462     20.461538  218.538462  189.923077      47.476923   \n",
       "537     38.950000     60.571429  155.785714   59.428571      42.864286   \n",
       "662     31.116667     12.150000  177.500000  341.416667      11.008333   \n",
       "717     14.572727     11.200000   93.636364  554.818182       4.127273   \n",
       "...           ...           ...         ...         ...            ...   \n",
       "262     29.476923     51.492308  199.307692   46.461538      42.223077   \n",
       "947     32.642857     16.878571  285.285714  202.142857      57.121429   \n",
       "1076    20.154545      3.927273  132.909091  410.454545       7.818182   \n",
       "742     15.733333     14.383333  120.166667  399.416667       4.375000   \n",
       "158     39.635714      0.192857  245.571429  329.642857      28.900000   \n",
       "\n",
       "       Humidity    Pressure  WindDirection  WindSpeed  Sunrise  Sunset  Month  \n",
       "951   53.528571  977.842857      85.500000   1.914286        9      16      8  \n",
       "1006  43.800000  981.323077     227.923077   1.700000        9       0     10  \n",
       "537   33.985714  974.028571     242.571429   2.607143        9      16      6  \n",
       "662   14.475000  981.966667     200.416667   1.375000        9       0     10  \n",
       "717   27.872727  994.418182     305.545455   3.554545        9       0     12  \n",
       "...         ...         ...            ...        ...      ...     ...    ...  \n",
       "262   61.930769  985.123077     103.615385   3.046154        9       0      9  \n",
       "947   54.807143  974.985714      95.357143   3.878571        9      16      8  \n",
       "1076  28.181818  993.263636     301.636364   1.872727        9       0     12  \n",
       "742   36.366667  990.516667     304.833333   3.941667        9       0      1  \n",
       "158   23.450000  979.135714     159.928571   2.578571        9      16      6  \n",
       "\n",
       "[822 rows x 12 columns]"
      ]
     },
     "execution_count": 15,
     "metadata": {},
     "output_type": "execute_result"
    }
   ],
   "source": [
    "X_train"
   ]
  },
  {
   "cell_type": "code",
   "execution_count": 16,
   "id": "4f2971f3",
   "metadata": {},
   "outputs": [
    {
     "name": "stdout",
     "output_type": "stream",
     "text": [
      "Training set score: 0.9980019610723753\n",
      "Test set score: 0.9870482801193631\n",
      "Pipeline(steps=[('preprocessing',\n",
      "                 ColumnTransformer(remainder='passthrough',\n",
      "                                   transformers=[('month_encoder',\n",
      "                                                  OneHotEncoder(handle_unknown='ignore'),\n",
      "                                                  ['Month']),\n",
      "                                                 ('log_transform',\n",
      "                                                  'passthrough',\n",
      "                                                  ['Temperature', 'DHI',\n",
      "                                                   'Precipitation', 'Humidity',\n",
      "                                                   'Pressure', 'WindDirection',\n",
      "                                                   'WindSpeed'])])),\n",
      "                ('scaler', 'passthrough'), ('model', RandomForestRegressor())])\n"
     ]
    }
   ],
   "source": [
    "scoring = {'max_error': 'max_error', 'neg_mean_squared_error': 'neg_mean_squared_error', 'r2':'r2'}\n",
    "\n",
    "grid = GridSearchCV(pipeline, parameters, cv=5, scoring=scoring, refit='r2', return_train_score=True).fit(X_train, y_train)\n",
    "\n",
    "print('Training set score: ' + str(grid.score(X_train, y_train)))\n",
    "print('Test set score: ' + str(grid.score(X_test, y_test)))\n",
    " \n",
    "# Access the best set of parameters\n",
    "best_params = grid.best_params_\n",
    "#print(best_params)\n",
    "# Stores the optimum model in best_pipe\n",
    "best_pipe = grid.best_estimator_\n",
    "print(best_pipe)"
   ]
  },
  {
   "cell_type": "markdown",
   "id": "ae8f10c4",
   "metadata": {},
   "source": [
    "## Plotting the predictions"
   ]
  },
  {
   "cell_type": "code",
   "execution_count": 17,
   "id": "c3f7cca6",
   "metadata": {},
   "outputs": [],
   "source": [
    "y_pred = best_pipe.predict(X_test)"
   ]
  },
  {
   "cell_type": "code",
   "execution_count": 18,
   "id": "f5acd877",
   "metadata": {},
   "outputs": [
    {
     "data": {
      "image/png": "[encoded data removed]",
      "text/plain": [
       "<Figure size 1584x576 with 1 Axes>"
      ]
     },
     "metadata": {
      "needs_background": "light"
     },
     "output_type": "display_data"
    }
   ],
   "source": [
    "# run the model against the test data presented through a plot\n",
    "fig, ax = plt.subplots(figsize=(22,8))\n",
    "\n",
    "ax.scatter(y_test, y_pred, edgecolors=(0, 0, 0))\n",
    "ax.plot([y_test.min(), y_test.max()], [y_test.min(), y_test.max()], 'm--', lw=3)\n",
    "ax.set_xlabel('Actual solar irradiation')\n",
    "ax.set_ylabel('Predicted solar irradiation')\n",
    "ax.set_title(\" Best pipeline [Random Forest]: Actual vs Predicted Solar Irradiation\");"
   ]
  },
  {
   "cell_type": "code",
   "execution_count": 19,
   "id": "8a16e729",
   "metadata": {},
   "outputs": [
    {
     "name": "stderr",
     "output_type": "stream",
     "text": [
      "C:\\Users\\HP\\anaconda3\\lib\\site-packages\\seaborn\\_decorators.py:36: FutureWarning: Pass the following variables as keyword args: x, y. From version 0.12, the only valid positional argument will be `data`, and passing other arguments without an explicit keyword will result in an error or misinterpretation.\n",
      "  warnings.warn(\n"
     ]
    },
    {
     "data": {
      "image/png": "[encoded data removed]",
      "text/plain": [
       "<Figure size 432x432 with 3 Axes>"
      ]
     },
     "metadata": {
      "needs_background": "light"
     },
     "output_type": "display_data"
    }
   ],
   "source": [
    "sns.jointplot(y_test, y_pred, kind='reg', ax=ax)\n",
    "plt.show()"
   ]
  }
 ],
 "metadata": {
  "kernelspec": {
   "display_name": "Python 3",
   "language": "python",
   "name": "python3"
  },
  "language_info": {
   "codemirror_mode": {
    "name": "ipython",
    "version": 3
   },
   "file_extension": ".py",
   "mimetype": "text/x-python",
   "name": "python",
   "nbconvert_exporter": "python",
   "pygments_lexer": "ipython3",
   "version": "3.8.8"
  }
 },
 "nbformat": 4,
 "nbformat_minor": 5
}
